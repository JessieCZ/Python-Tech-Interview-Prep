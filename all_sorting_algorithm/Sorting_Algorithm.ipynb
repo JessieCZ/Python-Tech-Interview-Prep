{
 "cells": [
  {
   "cell_type": "markdown",
   "metadata": {},
   "source": [
    "Here are animations of:\n",
    "Insertion, Selection, Bubble, Shell, Merge, Heap, and Quick Sort\n",
    "\n",
    "https://www.toptal.com/developers/sorting-algorithms\n",
    "\n",
    "\n",
    "1. conceptually how it works\n",
    "2. code implementation\n",
    "3. time complexity\n",
    "4. space complexity\n",
    "5. stability of results\n"
   ]
  },
  {
   "cell_type": "markdown",
   "metadata": {},
   "source": [
    "## Bubble Sort\n",
    "\n",
    "At Iteration i: bubble up ith maximum num to the tail of array.\n",
    "\n",
    "<img src=\"bubble_sort.gif\">"
   ]
  },
  {
   "cell_type": "code",
   "execution_count": 4,
   "metadata": {},
   "outputs": [
    {
     "name": "stdout",
     "output_type": "stream",
     "text": [
      "[4, 2, 5, 3, 1, 0, 6]\n",
      "[2, 4, 3, 1, 0, 5, 6]\n",
      "[2, 3, 1, 0, 4, 5, 6]\n",
      "[2, 1, 0, 3, 4, 5, 6]\n",
      "[1, 0, 2, 3, 4, 5, 6]\n",
      "[0, 1, 2, 3, 4, 5, 6]\n",
      "[0, 1, 2, 3, 4, 5, 6]\n"
     ]
    },
    {
     "data": {
      "text/plain": [
       "[0, 1, 2, 3, 4, 5, 6]"
      ]
     },
     "execution_count": 4,
     "metadata": {},
     "output_type": "execute_result"
    }
   ],
   "source": [
    "def bubble_sort(array):\n",
    "    \n",
    "    n = len(array)\n",
    "    \n",
    "    # i is the num of iteration:\n",
    "    # after i the iteration: at least the last i numbers are sorted\n",
    "    for i in range(n):\n",
    "        \n",
    "        # Create a flag that will allow the function to terminate early\n",
    "        # if there is nothing left to sort\n",
    "        already_sorted = True\n",
    "        \n",
    "        # pointer is ranging from 0 to the end of unsorted sub-array\n",
    "        # And bubble the unsorted pair one by one\n",
    "        for j in range(0, n-i-1):\n",
    "            if array[j] > array[j+1]:\n",
    "                array[j], array[j+1] = array[j+1], array[j]\n",
    "                \n",
    "                already_sorted = False\n",
    "        print(array)\n",
    "        \n",
    "        # Check whether already_sorted has been changed to False\n",
    "        # If already_sorted = False: continue next iteration\n",
    "        # If already_sorted = All nums have been sorted, break, and return sorted array\n",
    "        if already_sorted:\n",
    "            break\n",
    "            \n",
    "    return array\n",
    "\n",
    "\n",
    "bubble_sort([4,5,2,6,3,1,0])"
   ]
  },
  {
   "cell_type": "markdown",
   "metadata": {},
   "source": [
    "## Insertion Sort\n",
    "<img src=\"insertion_sort.png\">"
   ]
  },
  {
   "cell_type": "code",
   "execution_count": 8,
   "metadata": {},
   "outputs": [
    {
     "name": "stdout",
     "output_type": "stream",
     "text": [
      "[4, 5, 2, 6, 3, 1, 0]\n",
      "[2, 4, 5, 6, 3, 1, 0]\n",
      "[2, 4, 5, 6, 3, 1, 0]\n",
      "[2, 3, 4, 5, 6, 1, 0]\n",
      "[1, 2, 3, 4, 5, 6, 0]\n",
      "[0, 1, 2, 3, 4, 5, 6]\n"
     ]
    },
    {
     "data": {
      "text/plain": [
       "[0, 1, 2, 3, 4, 5, 6]"
      ]
     },
     "execution_count": 8,
     "metadata": {},
     "output_type": "execute_result"
    }
   ],
   "source": [
    "def insertion_sort(array):\n",
    "    \n",
    "    # Start from the second item of array and compare with the previous item\n",
    "    for i in range(1, len(array)):\n",
    "        \n",
    "        # This is the element we want to position in the right place\n",
    "        # -- item to perform Insertion\n",
    "        key_item = array[i]\n",
    "        \n",
    "        # Start from comparing with the previous one and push back\n",
    "        j = i - 1\n",
    "        \n",
    "        # While j>=0 and the pointer val array[j] greater than key_item,\n",
    "        # we want to perform insertion\n",
    "        while j >= 0 and array[j] > key_item:\n",
    "            \n",
    "            # Shift the value one position to the left\n",
    "            # and reposition j to point to the next (left) element\n",
    "            array[j+1] = array[j]\n",
    "            j -= 1\n",
    "            \n",
    "        array[j+1] = key_item\n",
    "        print(array)\n",
    "        \n",
    "    return array\n",
    "\n",
    "insertion_sort([4,5,2,6,3,1,0])"
   ]
  },
  {
   "cell_type": "markdown",
   "metadata": {},
   "source": [
    "## Merge Sort\n",
    "\"Divide and Conquer\"\n",
    "<img src=\"merge_sort.png\">"
   ]
  },
  {
   "cell_type": "code",
   "execution_count": 17,
   "metadata": {},
   "outputs": [
    {
     "name": "stdout",
     "output_type": "stream",
     "text": [
      "conquer: [1, 3, 5] [2, 4, 6] to: [1, 2, 3, 4, 5, 6]\n"
     ]
    },
    {
     "data": {
      "text/plain": [
       "[1, 2, 3, 4, 5, 6]"
      ]
     },
     "execution_count": 17,
     "metadata": {},
     "output_type": "execute_result"
    }
   ],
   "source": [
    "def merge(left, right):\n",
    "    \n",
    "    # if the other half is empty, then return itself\n",
    "    if len(right) == 0:\n",
    "        return left\n",
    "    \n",
    "    if len(left) == 0:\n",
    "        return right\n",
    "    \n",
    "    # Initialize\n",
    "    result = []\n",
    "    index_left = index_right = 0\n",
    "    \n",
    "    while len(result) < len(left) + len(right):\n",
    "        \n",
    "        # compare the pointed element in two array\n",
    "        # append the smaller item in to the result array\n",
    "        # and move the pointer by one\n",
    "        if left[index_left] <= right[index_right]:\n",
    "            result.append(left[index_left])\n",
    "            index_left += 1\n",
    "            \n",
    "        elif left[index_left] > right[index_right]:\n",
    "            result.append(right[index_right])\n",
    "            index_right += 1\n",
    "        \n",
    "        # Check if we reach to the end of either\n",
    "        # If yes, then append remaining part of the other to result\n",
    "        if index_right == len(right):\n",
    "            result += left[index_left:]\n",
    "            break\n",
    "        \n",
    "        if index_left == len(left):\n",
    "            result += right[index_right:]\n",
    "            break\n",
    "            \n",
    "    print(\"conquer:\", left, right, \"to:\", result)\n",
    "        \n",
    "    return result\n",
    "\n",
    "merge([1,3,5], [2,4,6])"
   ]
  },
  {
   "cell_type": "code",
   "execution_count": 19,
   "metadata": {},
   "outputs": [
    {
     "name": "stdout",
     "output_type": "stream",
     "text": [
      "divide: [4, 5, 2] [6, 3, 1, 0]\n",
      "divide: [4] [5, 2]\n",
      "divide: [5] [2]\n",
      "conquer: [5] [2] to: [2, 5]\n",
      "conquer: [4] [2, 5] to: [2, 4, 5]\n",
      "divide: [6, 3] [1, 0]\n",
      "divide: [6] [3]\n",
      "conquer: [6] [3] to: [3, 6]\n",
      "divide: [1] [0]\n",
      "conquer: [1] [0] to: [0, 1]\n",
      "conquer: [3, 6] [0, 1] to: [0, 1, 3, 6]\n",
      "conquer: [2, 4, 5] [0, 1, 3, 6] to: [0, 1, 2, 3, 4, 5, 6]\n"
     ]
    },
    {
     "data": {
      "text/plain": [
       "[0, 1, 2, 3, 4, 5, 6]"
      ]
     },
     "execution_count": 19,
     "metadata": {},
     "output_type": "execute_result"
    }
   ],
   "source": [
    "def merge_sort(array):\n",
    "    \n",
    "    # Base case\n",
    "    if len(array) < 2:\n",
    "        return array\n",
    "    \n",
    "    midpoint = len(array) // 2\n",
    "    \n",
    "    print(\"divide:\", array[:midpoint], array[midpoint:])\n",
    "    \n",
    "    return merge(left=merge_sort(array[:midpoint]),\n",
    "                right=merge_sort(array[midpoint:]))\n",
    "\n",
    "\n",
    "merge_sort([4,5,2,6,3,1,0])"
   ]
  },
  {
   "cell_type": "markdown",
   "metadata": {},
   "source": [
    "## Quick Sort\n",
    "<img src=\"quick_sort.png\">"
   ]
  },
  {
   "cell_type": "code",
   "execution_count": 21,
   "metadata": {},
   "outputs": [
    {
     "name": "stdout",
     "output_type": "stream",
     "text": [
      "[0] [1] [4, 5, 2, 6, 3]\n",
      "[] [2] [4, 5, 6, 3]\n",
      "[] [3] [4, 5, 6]\n",
      "[4, 5] [6] []\n",
      "[4] [5] []\n"
     ]
    },
    {
     "data": {
      "text/plain": [
       "[0, 1, 2, 3, 4, 5, 6]"
      ]
     },
     "execution_count": 21,
     "metadata": {},
     "output_type": "execute_result"
    }
   ],
   "source": [
    "from random import randint\n",
    "\n",
    "def quicksort(array):\n",
    "    \n",
    "    # Base case\n",
    "    if len(array) < 2:\n",
    "        return array\n",
    "    \n",
    "    low, same, high = [], [], []\n",
    "    \n",
    "    # Select pivit randomly / or at some fixed index(like above)\n",
    "    pivot = array[randint(0, len(array) - 1)]\n",
    "    \n",
    "    for item in array:\n",
    "        if item < pivot:\n",
    "            low.append(item)\n",
    "        elif item == pivot:\n",
    "            same.append(item)\n",
    "        elif item > pivot:\n",
    "            high.append(item)\n",
    "            \n",
    "    print(low, same, high)\n",
    "    \n",
    "    return quicksort(low) + same + quicksort(high)\n",
    "\n",
    "\n",
    "\n",
    "quicksort([4,5,2,6,3,1,0])"
   ]
  }
 ],
 "metadata": {
  "kernelspec": {
   "display_name": "Python 3",
   "language": "python",
   "name": "python3"
  },
  "language_info": {
   "codemirror_mode": {
    "name": "ipython",
    "version": 3
   },
   "file_extension": ".py",
   "mimetype": "text/x-python",
   "name": "python",
   "nbconvert_exporter": "python",
   "pygments_lexer": "ipython3",
   "version": "3.7.3"
  }
 },
 "nbformat": 4,
 "nbformat_minor": 2
}
